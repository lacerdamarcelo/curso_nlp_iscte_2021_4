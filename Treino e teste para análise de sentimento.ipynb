{
 "cells": [
  {
   "cell_type": "code",
   "execution_count": 1,
   "metadata": {},
   "outputs": [],
   "source": [
    "import re\n",
    "import spacy\n",
    "import tweepy\n",
    "import numpy as np\n",
    "import pandas as pd\n",
    "from tqdm.auto import tqdm\n",
    "from spacy.tokens import Doc\n",
    "from spacy.tokens import DocBin\n",
    "from spacy.training import Example\n",
    "from tweepy import Stream, TweepError\n",
    "from datetime import datetime, timedelta\n",
    "from spacy.util import minibatch, compounding\n",
    "from sklearn.model_selection import train_test_split\n",
    "from spacy.pipeline.textcat import DEFAULT_SINGLE_TEXTCAT_MODEL\n",
    "from sklearn.metrics import accuracy_score, recall_score, f1_score, classification_report"
   ]
  },
  {
   "cell_type": "markdown",
   "metadata": {},
   "source": [
    "Carregando base com pandas."
   ]
  },
  {
   "cell_type": "code",
   "execution_count": 34,
   "metadata": {},
   "outputs": [],
   "source": [
    "data = pd.read_csv('base_sentimentos_twitter.csv')"
   ]
  },
  {
   "cell_type": "markdown",
   "metadata": {},
   "source": [
    "Limpando texto: apagando tabs, quebra de linha e múltiplos espaços em branco seguidos, apagando citações a usuários (@), e apagando links. Outras etapas de pré-processamento estão implementadas na spacy."
   ]
  },
  {
   "cell_type": "code",
   "execution_count": 3,
   "metadata": {},
   "outputs": [],
   "source": [
    "def clean_text(text):\n",
    "    if pd.isnull(text):\n",
    "        return None\n",
    "    return re.sub('( +)', \" \", re.sub(r\"( +)|([\\t\\n])|(@[a-zA-Z0-9_\\-+\\.:]+)|(http[a-zA-Z0-9/\\-:&\\.]+)\", \" \", text)).strip()"
   ]
  },
  {
   "cell_type": "code",
   "execution_count": 4,
   "metadata": {},
   "outputs": [],
   "source": [
    "data['tweet'] = data['tweet'].apply(clean_text)"
   ]
  },
  {
   "cell_type": "code",
   "execution_count": 5,
   "metadata": {},
   "outputs": [
    {
     "data": {
      "text/html": [
       "<div>\n",
       "<style scoped>\n",
       "    .dataframe tbody tr th:only-of-type {\n",
       "        vertical-align: middle;\n",
       "    }\n",
       "\n",
       "    .dataframe tbody tr th {\n",
       "        vertical-align: top;\n",
       "    }\n",
       "\n",
       "    .dataframe thead th {\n",
       "        text-align: right;\n",
       "    }\n",
       "</style>\n",
       "<table border=\"1\" class=\"dataframe\">\n",
       "  <thead>\n",
       "    <tr style=\"text-align: right;\">\n",
       "      <th></th>\n",
       "      <th>tweet</th>\n",
       "      <th>sentiment</th>\n",
       "    </tr>\n",
       "  </thead>\n",
       "  <tbody>\n",
       "    <tr>\n",
       "      <th>0</th>\n",
       "      <td>Impressionante essa garota. Nunca vi tanta mal...</td>\n",
       "      <td>-1</td>\n",
       "    </tr>\n",
       "    <tr>\n",
       "      <th>1</th>\n",
       "      <td>a sarinha não deixa eu estourar essa espinha d...</td>\n",
       "      <td>-1</td>\n",
       "    </tr>\n",
       "    <tr>\n",
       "      <th>2</th>\n",
       "      <td>Depois de quase dois meses de termo hj me bate...</td>\n",
       "      <td>-1</td>\n",
       "    </tr>\n",
       "    <tr>\n",
       "      <th>3</th>\n",
       "      <td>e vc amor?</td>\n",
       "      <td>-1</td>\n",
       "    </tr>\n",
       "    <tr>\n",
       "      <th>4</th>\n",
       "      <td>n da eu vejo qualquer coisa relacionada a pont...</td>\n",
       "      <td>-1</td>\n",
       "    </tr>\n",
       "    <tr>\n",
       "      <th>...</th>\n",
       "      <td>...</td>\n",
       "      <td>...</td>\n",
       "    </tr>\n",
       "    <tr>\n",
       "      <th>4397</th>\n",
       "      <td>Quase 10% da população e primeira dose só. Tá ...</td>\n",
       "      <td>-1</td>\n",
       "    </tr>\n",
       "    <tr>\n",
       "      <th>4398</th>\n",
       "      <td>pode? lá vai: Cachaceiro Cilva Cuba Caneta Cor...</td>\n",
       "      <td>-1</td>\n",
       "    </tr>\n",
       "    <tr>\n",
       "      <th>4399</th>\n",
       "      <td>Pegaria por dó</td>\n",
       "      <td>-1</td>\n",
       "    </tr>\n",
       "    <tr>\n",
       "      <th>4400</th>\n",
       "      <td>Ah sim, Feliciano. Vc é bem honesto</td>\n",
       "      <td>-1</td>\n",
       "    </tr>\n",
       "    <tr>\n",
       "      <th>4401</th>\n",
       "      <td>Educação linda que o Arthur recebeu!</td>\n",
       "      <td>-1</td>\n",
       "    </tr>\n",
       "  </tbody>\n",
       "</table>\n",
       "<p>4402 rows × 2 columns</p>\n",
       "</div>"
      ],
      "text/plain": [
       "                                                  tweet  sentiment\n",
       "0     Impressionante essa garota. Nunca vi tanta mal...         -1\n",
       "1     a sarinha não deixa eu estourar essa espinha d...         -1\n",
       "2     Depois de quase dois meses de termo hj me bate...         -1\n",
       "3                                            e vc amor?         -1\n",
       "4     n da eu vejo qualquer coisa relacionada a pont...         -1\n",
       "...                                                 ...        ...\n",
       "4397  Quase 10% da população e primeira dose só. Tá ...         -1\n",
       "4398  pode? lá vai: Cachaceiro Cilva Cuba Caneta Cor...         -1\n",
       "4399                                     Pegaria por dó         -1\n",
       "4400                Ah sim, Feliciano. Vc é bem honesto         -1\n",
       "4401               Educação linda que o Arthur recebeu!         -1\n",
       "\n",
       "[4402 rows x 2 columns]"
      ]
     },
     "execution_count": 5,
     "metadata": {},
     "output_type": "execute_result"
    }
   ],
   "source": [
    "data"
   ]
  },
  {
   "cell_type": "markdown",
   "metadata": {},
   "source": [
    "Dividindo a base aleatoriamente entre bases de treino (60%), validação (20%), e teste (20%) com scikit-learn."
   ]
  },
  {
   "cell_type": "code",
   "execution_count": 6,
   "metadata": {},
   "outputs": [],
   "source": [
    "train_data, test_data = train_test_split(data, test_size=0.2, random_state=42)\n",
    "train_data, val_data = train_test_split(train_data, test_size=0.25, random_state=42)"
   ]
  },
  {
   "cell_type": "code",
   "execution_count": 7,
   "metadata": {},
   "outputs": [
    {
     "data": {
      "text/html": [
       "<div>\n",
       "<style scoped>\n",
       "    .dataframe tbody tr th:only-of-type {\n",
       "        vertical-align: middle;\n",
       "    }\n",
       "\n",
       "    .dataframe tbody tr th {\n",
       "        vertical-align: top;\n",
       "    }\n",
       "\n",
       "    .dataframe thead th {\n",
       "        text-align: right;\n",
       "    }\n",
       "</style>\n",
       "<table border=\"1\" class=\"dataframe\">\n",
       "  <thead>\n",
       "    <tr style=\"text-align: right;\">\n",
       "      <th></th>\n",
       "      <th>tweet</th>\n",
       "      <th>sentiment</th>\n",
       "    </tr>\n",
       "  </thead>\n",
       "  <tbody>\n",
       "    <tr>\n",
       "      <th>2504</th>\n",
       "      <td>Amém 🙏 #oração #força #Gratidão #perdão #empat...</td>\n",
       "      <td>1</td>\n",
       "    </tr>\n",
       "    <tr>\n",
       "      <th>830</th>\n",
       "      <td>Minha namuie disse que eu sou chato 🥲</td>\n",
       "      <td>-1</td>\n",
       "    </tr>\n",
       "    <tr>\n",
       "      <th>3812</th>\n",
       "      <td>“O anjo mais velho” no fez o se emocionar e to...</td>\n",
       "      <td>1</td>\n",
       "    </tr>\n",
       "    <tr>\n",
       "      <th>4399</th>\n",
       "      <td>Pegaria por dó</td>\n",
       "      <td>-1</td>\n",
       "    </tr>\n",
       "    <tr>\n",
       "      <th>207</th>\n",
       "      <td>indo dormir</td>\n",
       "      <td>-1</td>\n",
       "    </tr>\n",
       "    <tr>\n",
       "      <th>...</th>\n",
       "      <td>...</td>\n",
       "      <td>...</td>\n",
       "    </tr>\n",
       "    <tr>\n",
       "      <th>1036</th>\n",
       "      <td>7.1 Primaveras🎈🎆 Agradeço a Deus por tudo e te...</td>\n",
       "      <td>1</td>\n",
       "    </tr>\n",
       "    <tr>\n",
       "      <th>1735</th>\n",
       "      <td>Simples assim! 😉 #Ternura #Empatia #Humanidade...</td>\n",
       "      <td>1</td>\n",
       "    </tr>\n",
       "    <tr>\n",
       "      <th>3848</th>\n",
       "      <td>“O anjo mais velho” no fez o se emocionar e to...</td>\n",
       "      <td>1</td>\n",
       "    </tr>\n",
       "    <tr>\n",
       "      <th>3385</th>\n",
       "      <td>queria receber demonstrações de #afeto e e #ca...</td>\n",
       "      <td>1</td>\n",
       "    </tr>\n",
       "    <tr>\n",
       "      <th>2294</th>\n",
       "      <td>#familia #familiaridergroup #familiar2 #famili...</td>\n",
       "      <td>1</td>\n",
       "    </tr>\n",
       "  </tbody>\n",
       "</table>\n",
       "<p>2640 rows × 2 columns</p>\n",
       "</div>"
      ],
      "text/plain": [
       "                                                  tweet  sentiment\n",
       "2504  Amém 🙏 #oração #força #Gratidão #perdão #empat...          1\n",
       "830               Minha namuie disse que eu sou chato 🥲         -1\n",
       "3812  “O anjo mais velho” no fez o se emocionar e to...          1\n",
       "4399                                     Pegaria por dó         -1\n",
       "207                                         indo dormir         -1\n",
       "...                                                 ...        ...\n",
       "1036  7.1 Primaveras🎈🎆 Agradeço a Deus por tudo e te...          1\n",
       "1735  Simples assim! 😉 #Ternura #Empatia #Humanidade...          1\n",
       "3848  “O anjo mais velho” no fez o se emocionar e to...          1\n",
       "3385  queria receber demonstrações de #afeto e e #ca...          1\n",
       "2294  #familia #familiaridergroup #familiar2 #famili...          1\n",
       "\n",
       "[2640 rows x 2 columns]"
      ]
     },
     "execution_count": 7,
     "metadata": {},
     "output_type": "execute_result"
    }
   ],
   "source": [
    "train_data"
   ]
  },
  {
   "cell_type": "code",
   "execution_count": 8,
   "metadata": {},
   "outputs": [
    {
     "data": {
      "text/html": [
       "<div>\n",
       "<style scoped>\n",
       "    .dataframe tbody tr th:only-of-type {\n",
       "        vertical-align: middle;\n",
       "    }\n",
       "\n",
       "    .dataframe tbody tr th {\n",
       "        vertical-align: top;\n",
       "    }\n",
       "\n",
       "    .dataframe thead th {\n",
       "        text-align: right;\n",
       "    }\n",
       "</style>\n",
       "<table border=\"1\" class=\"dataframe\">\n",
       "  <thead>\n",
       "    <tr style=\"text-align: right;\">\n",
       "      <th></th>\n",
       "      <th>tweet</th>\n",
       "      <th>sentiment</th>\n",
       "    </tr>\n",
       "  </thead>\n",
       "  <tbody>\n",
       "    <tr>\n",
       "      <th>3626</th>\n",
       "      <td>“O anjo mais velho” no fez o se emocionar e to...</td>\n",
       "      <td>1</td>\n",
       "    </tr>\n",
       "    <tr>\n",
       "      <th>1572</th>\n",
       "      <td>#paz #harmonia #saude #amigos #familia #fé #sa...</td>\n",
       "      <td>1</td>\n",
       "    </tr>\n",
       "    <tr>\n",
       "      <th>604</th>\n",
       "      <td>Sábado à noite em casa, no sofá....</td>\n",
       "      <td>-1</td>\n",
       "    </tr>\n",
       "    <tr>\n",
       "      <th>2666</th>\n",
       "      <td>#TodoPorAmor | A falta de amor ... |</td>\n",
       "      <td>1</td>\n",
       "    </tr>\n",
       "    <tr>\n",
       "      <th>2872</th>\n",
       "      <td>“O anjo mais velho” no fez o se emocionar e to...</td>\n",
       "      <td>1</td>\n",
       "    </tr>\n",
       "    <tr>\n",
       "      <th>...</th>\n",
       "      <td>...</td>\n",
       "      <td>...</td>\n",
       "    </tr>\n",
       "    <tr>\n",
       "      <th>702</th>\n",
       "      <td>Mentira... Te trato com maior amor e carinho a...</td>\n",
       "      <td>-1</td>\n",
       "    </tr>\n",
       "    <tr>\n",
       "      <th>1141</th>\n",
       "      <td>NF MUSIC Deseja a todos os Amigos e alunos uma...</td>\n",
       "      <td>1</td>\n",
       "    </tr>\n",
       "    <tr>\n",
       "      <th>333</th>\n",
       "      <td>Ex prefeito de Teresina Firmino Filho se suici...</td>\n",
       "      <td>-1</td>\n",
       "    </tr>\n",
       "    <tr>\n",
       "      <th>517</th>\n",
       "      <td>a dor de cotovelo pq a sarah foi eliminada e e...</td>\n",
       "      <td>-1</td>\n",
       "    </tr>\n",
       "    <tr>\n",
       "      <th>1349</th>\n",
       "      <td>A energia flui o tempo todo.... Reflita - 🌬♾❤️...</td>\n",
       "      <td>1</td>\n",
       "    </tr>\n",
       "  </tbody>\n",
       "</table>\n",
       "<p>881 rows × 2 columns</p>\n",
       "</div>"
      ],
      "text/plain": [
       "                                                  tweet  sentiment\n",
       "3626  “O anjo mais velho” no fez o se emocionar e to...          1\n",
       "1572  #paz #harmonia #saude #amigos #familia #fé #sa...          1\n",
       "604                 Sábado à noite em casa, no sofá....         -1\n",
       "2666               #TodoPorAmor | A falta de amor ... |          1\n",
       "2872  “O anjo mais velho” no fez o se emocionar e to...          1\n",
       "...                                                 ...        ...\n",
       "702   Mentira... Te trato com maior amor e carinho a...         -1\n",
       "1141  NF MUSIC Deseja a todos os Amigos e alunos uma...          1\n",
       "333   Ex prefeito de Teresina Firmino Filho se suici...         -1\n",
       "517   a dor de cotovelo pq a sarah foi eliminada e e...         -1\n",
       "1349  A energia flui o tempo todo.... Reflita - 🌬♾❤️...          1\n",
       "\n",
       "[881 rows x 2 columns]"
      ]
     },
     "execution_count": 8,
     "metadata": {},
     "output_type": "execute_result"
    }
   ],
   "source": [
    "val_data"
   ]
  },
  {
   "cell_type": "code",
   "execution_count": 9,
   "metadata": {},
   "outputs": [
    {
     "data": {
      "text/html": [
       "<div>\n",
       "<style scoped>\n",
       "    .dataframe tbody tr th:only-of-type {\n",
       "        vertical-align: middle;\n",
       "    }\n",
       "\n",
       "    .dataframe tbody tr th {\n",
       "        vertical-align: top;\n",
       "    }\n",
       "\n",
       "    .dataframe thead th {\n",
       "        text-align: right;\n",
       "    }\n",
       "</style>\n",
       "<table border=\"1\" class=\"dataframe\">\n",
       "  <thead>\n",
       "    <tr style=\"text-align: right;\">\n",
       "      <th></th>\n",
       "      <th>tweet</th>\n",
       "      <th>sentiment</th>\n",
       "    </tr>\n",
       "  </thead>\n",
       "  <tbody>\n",
       "    <tr>\n",
       "      <th>274</th>\n",
       "      <td>Olá pessoal, esse ano não está muito fácil, qu...</td>\n",
       "      <td>-1</td>\n",
       "    </tr>\n",
       "    <tr>\n",
       "      <th>3431</th>\n",
       "      <td>Jesus = amor #jesus #catolicos #iglesia #enamo...</td>\n",
       "      <td>1</td>\n",
       "    </tr>\n",
       "    <tr>\n",
       "      <th>4021</th>\n",
       "      <td>Revendo o episódio final da quinta temporada d...</td>\n",
       "      <td>-1</td>\n",
       "    </tr>\n",
       "    <tr>\n",
       "      <th>1027</th>\n",
       "      <td>7.1 Primaveras🎈🎆 Agradeço a Deus por tudo e te...</td>\n",
       "      <td>1</td>\n",
       "    </tr>\n",
       "    <tr>\n",
       "      <th>1589</th>\n",
       "      <td>Você não precisa desistir, só precisa descansa...</td>\n",
       "      <td>1</td>\n",
       "    </tr>\n",
       "    <tr>\n",
       "      <th>...</th>\n",
       "      <td>...</td>\n",
       "      <td>...</td>\n",
       "    </tr>\n",
       "    <tr>\n",
       "      <th>1032</th>\n",
       "      <td>7.1 Primaveras🎈🎆 Agradeço a Deus por tudo e te...</td>\n",
       "      <td>1</td>\n",
       "    </tr>\n",
       "    <tr>\n",
       "      <th>3281</th>\n",
       "      <td>💗🙏🏽Que o amor e a união se renove em todos nós...</td>\n",
       "      <td>1</td>\n",
       "    </tr>\n",
       "    <tr>\n",
       "      <th>527</th>\n",
       "      <td>Eu vendo que já se passou horas desde o nudes ...</td>\n",
       "      <td>-1</td>\n",
       "    </tr>\n",
       "    <tr>\n",
       "      <th>1200</th>\n",
       "      <td>#SputnikVGarantizaVida sábado</td>\n",
       "      <td>1</td>\n",
       "    </tr>\n",
       "    <tr>\n",
       "      <th>122</th>\n",
       "      <td>OOC. meu cabelo é bem cacheadinho ##</td>\n",
       "      <td>-1</td>\n",
       "    </tr>\n",
       "  </tbody>\n",
       "</table>\n",
       "<p>881 rows × 2 columns</p>\n",
       "</div>"
      ],
      "text/plain": [
       "                                                  tweet  sentiment\n",
       "274   Olá pessoal, esse ano não está muito fácil, qu...         -1\n",
       "3431  Jesus = amor #jesus #catolicos #iglesia #enamo...          1\n",
       "4021  Revendo o episódio final da quinta temporada d...         -1\n",
       "1027  7.1 Primaveras🎈🎆 Agradeço a Deus por tudo e te...          1\n",
       "1589  Você não precisa desistir, só precisa descansa...          1\n",
       "...                                                 ...        ...\n",
       "1032  7.1 Primaveras🎈🎆 Agradeço a Deus por tudo e te...          1\n",
       "3281  💗🙏🏽Que o amor e a união se renove em todos nós...          1\n",
       "527   Eu vendo que já se passou horas desde o nudes ...         -1\n",
       "1200                      #SputnikVGarantizaVida sábado          1\n",
       "122                OOC. meu cabelo é bem cacheadinho ##         -1\n",
       "\n",
       "[881 rows x 2 columns]"
      ]
     },
     "execution_count": 9,
     "metadata": {},
     "output_type": "execute_result"
    }
   ],
   "source": [
    "test_data"
   ]
  },
  {
   "cell_type": "markdown",
   "metadata": {},
   "source": [
    "Carregando pipeline básico do spacy para português."
   ]
  },
  {
   "cell_type": "code",
   "execution_count": 10,
   "metadata": {},
   "outputs": [],
   "source": [
    "nlp=spacy.load('pt_core_news_lg')"
   ]
  },
  {
   "cell_type": "markdown",
   "metadata": {},
   "source": [
    "Criando documentos com suas respectivas categorias (sentimentos): 1 - sentimento positivo, -1 - sentimento negativo. Nos termos dos problemas de classificação, os sentimentos são classes."
   ]
  },
  {
   "cell_type": "code",
   "execution_count": 11,
   "metadata": {},
   "outputs": [],
   "source": [
    "def make_docs(data):    \n",
    "    docs = []    \n",
    "    for doc, label in tqdm(nlp.pipe(data, as_tuples=True), total = len(data)):\n",
    "        doc.cats['1'] = label == 1\n",
    "        doc.cats['-1'] = label == -1\n",
    "        docs.append(doc)    \n",
    "    return docs"
   ]
  },
  {
   "cell_type": "code",
   "execution_count": 12,
   "metadata": {},
   "outputs": [
    {
     "data": {
      "application/vnd.jupyter.widget-view+json": {
       "model_id": "5e549ca735644406bf332579b3b934a9",
       "version_major": 2,
       "version_minor": 0
      },
      "text/plain": [
       "HBox(children=(HTML(value=''), FloatProgress(value=0.0, max=2640.0), HTML(value='')))"
      ]
     },
     "metadata": {},
     "output_type": "display_data"
    },
    {
     "name": "stdout",
     "output_type": "stream",
     "text": [
      "\n"
     ]
    },
    {
     "data": {
      "application/vnd.jupyter.widget-view+json": {
       "model_id": "c88ef817a3794aa0a32b243291a0475c",
       "version_major": 2,
       "version_minor": 0
      },
      "text/plain": [
       "HBox(children=(HTML(value=''), FloatProgress(value=0.0, max=881.0), HTML(value='')))"
      ]
     },
     "metadata": {},
     "output_type": "display_data"
    },
    {
     "name": "stdout",
     "output_type": "stream",
     "text": [
      "\n"
     ]
    },
    {
     "data": {
      "application/vnd.jupyter.widget-view+json": {
       "model_id": "2c190f5bd61f47a5b026da8dfaad01d6",
       "version_major": 2,
       "version_minor": 0
      },
      "text/plain": [
       "HBox(children=(HTML(value=''), FloatProgress(value=0.0, max=881.0), HTML(value='')))"
      ]
     },
     "metadata": {},
     "output_type": "display_data"
    },
    {
     "name": "stdout",
     "output_type": "stream",
     "text": [
      "\n"
     ]
    }
   ],
   "source": [
    "docs_train = make_docs(train_data[['tweet', 'sentiment']].values)\n",
    "docs_val = make_docs(val_data[['tweet', 'sentiment']].values)\n",
    "docs_test = make_docs(test_data[['tweet', 'sentiment']].values)"
   ]
  },
  {
   "cell_type": "markdown",
   "metadata": {},
   "source": [
    "Salvando as bases em arquivos binários para serem usadas para construção do modelo através da linha de comando."
   ]
  },
  {
   "cell_type": "code",
   "execution_count": 13,
   "metadata": {},
   "outputs": [],
   "source": [
    "doc_bin = DocBin(docs=docs_train)\n",
    "doc_bin.to_disk(\"train.spacy\")\n",
    "doc_bin = DocBin(docs=docs_val)\n",
    "doc_bin.to_disk(\"validation.spacy\")\n",
    "doc_bin = DocBin(docs=docs_test)\n",
    "doc_bin.to_disk(\"test.spacy\")"
   ]
  },
  {
   "cell_type": "markdown",
   "metadata": {},
   "source": [
    "A partir deste ponto, deve-se seguir as instruções [neste link](https://spacy.io/usage/training). Após criar o arquivo base_config.cfg, executar a seguinte linha de comando no terminal, sem a exclamação (ou com a exclamação caso seja executado neste notebook). Este comando irá criar um arquivo config.cfg com todas as configurações necessárias para treinarmos um modelo. Os valores dos parâmetros são os valores padrão."
   ]
  },
  {
   "cell_type": "code",
   "execution_count": 14,
   "metadata": {},
   "outputs": [
    {
     "name": "stdout",
     "output_type": "stream",
     "text": [
      "2021-04-11 00:32:26.213411: I tensorflow/stream_executor/platform/default/dso_loader.cc:49] Successfully opened dynamic library libcudart.so.11.0\n",
      "\u001b[38;5;2m✔ Auto-filled config with all values\u001b[0m\n",
      "\u001b[38;5;2m✔ Saved config\u001b[0m\n",
      "config.cfg\n",
      "You can now add your data and train your pipeline:\n",
      "python -m spacy train config.cfg --paths.train ./train.spacy --paths.dev ./dev.spacy\n"
     ]
    }
   ],
   "source": [
    "!python -m spacy init fill-config base_config.cfg config.cfg"
   ]
  },
  {
   "cell_type": "markdown",
   "metadata": {},
   "source": [
    "O próximo comando inicializa o treinamento do modelo utilizando as bases de treino e validação geradas anteriormente, salvando o modelo em um diretório chamado 'output', utilizando a GPU disponível. Caso nenhuma GPU esteja disponível, remova a opção -gpu-id 0."
   ]
  },
  {
   "cell_type": "code",
   "execution_count": 15,
   "metadata": {},
   "outputs": [
    {
     "name": "stdout",
     "output_type": "stream",
     "text": [
      "2021-04-11 00:32:33.461081: I tensorflow/stream_executor/platform/default/dso_loader.cc:49] Successfully opened dynamic library libcudart.so.11.0\n",
      "\u001b[38;5;4mℹ Using GPU: 0\u001b[0m\n",
      "\u001b[1m\n",
      "=========================== Initializing pipeline ===========================\u001b[0m\n",
      "[2021-04-11 00:32:39,926] [INFO] Set up nlp object from config\n",
      "[2021-04-11 00:32:39,955] [INFO] Pipeline: ['tok2vec', 'textcat']\n",
      "[2021-04-11 00:32:39,963] [INFO] Created vocabulary\n",
      "[2021-04-11 00:32:48,638] [INFO] Added vectors: pt_core_news_lg\n",
      "[2021-04-11 00:32:48,638] [INFO] Finished initializing nlp object\n",
      "[2021-04-11 00:32:58,486] [INFO] Initialized pipeline components: ['tok2vec', 'textcat']\n",
      "\u001b[38;5;2m✔ Initialized pipeline\u001b[0m\n",
      "\u001b[1m\n",
      "============================= Training pipeline =============================\u001b[0m\n",
      "\u001b[38;5;4mℹ Pipeline: ['tok2vec', 'textcat']\u001b[0m\n",
      "\u001b[38;5;4mℹ Initial learn rate: 0.001\u001b[0m\n",
      "E    #       LOSS TOK2VEC  LOSS TEXTCAT  CATS_SCORE  SCORE \n",
      "---  ------  ------------  ------------  ----------  ------\n",
      "  0       0          0.00          0.06       49.37    0.49\n",
      "  0     200          5.96         10.64       82.13    0.82\n",
      "  0     400          6.76          3.86       81.26    0.81\n",
      "  0     600         20.02          2.21       80.99    0.81\n",
      "  1     800         23.31          0.97       77.61    0.78\n",
      "  2    1000         25.08          0.76       84.10    0.84\n",
      "  2    1200         27.55          0.49       85.44    0.85\n",
      "  3    1400         13.22          0.26       85.21    0.85\n",
      "  4    1600         21.45          0.14       83.97    0.84\n",
      "  6    1800         16.46          0.09       84.31    0.84\n",
      "  7    2000         25.65          0.05       84.86    0.85\n",
      " 10    2200         21.72          0.03       85.57    0.86\n",
      " 12    2400         20.99          0.02       85.42    0.85\n",
      " 15    2600         11.74          0.01       84.99    0.85\n",
      " 17    2800         21.32          0.01       84.08    0.84\n",
      " 20    3000         52.06          0.01       85.41    0.85\n",
      " 22    3200         32.14          0.01       85.30    0.85\n",
      " 25    3400         38.13          0.01       84.02    0.84\n",
      " 27    3600         62.90          0.01       85.48    0.85\n",
      " 30    3800         97.67          0.01       86.69    0.87\n",
      " 33    4000         76.94          0.01       87.34    0.87\n",
      " 35    4200         79.72          0.01       86.72    0.87\n",
      " 38    4400         88.79          0.01       84.91    0.85\n",
      " 40    4600        124.06          0.01       86.88    0.87\n",
      " 43    4800        142.04          0.01       85.86    0.86\n",
      " 46    5000        150.52          0.01       86.14    0.86\n",
      " 48    5200        144.03          0.00       86.10    0.86\n",
      " 51    5400        211.53          0.01       85.48    0.85\n",
      " 53    5600        230.25          0.01       84.02    0.84\n",
      "\u001b[38;5;2m✔ Saved pipeline to output directory\u001b[0m\n",
      "output/model-last\n"
     ]
    }
   ],
   "source": [
    "!python -m spacy train config.cfg --paths.train ./train.spacy --paths.dev ./validation.spacy --output output --gpu-id 0"
   ]
  },
  {
   "cell_type": "markdown",
   "metadata": {},
   "source": [
    "Após treinar o modelo, podemos usá-lo na base de teste. Carregaremos o melhor modelo."
   ]
  },
  {
   "cell_type": "code",
   "execution_count": 16,
   "metadata": {},
   "outputs": [],
   "source": [
    "trained_nlp = spacy.load('output/model-best')"
   ]
  },
  {
   "cell_type": "code",
   "execution_count": 17,
   "metadata": {},
   "outputs": [],
   "source": [
    "def predict(tokenizer, textcat, texts):\n",
    "    docs = (tokenizer(text) for text in texts)\n",
    "    return [pred for pred in textcat.pipe(texts)]"
   ]
  },
  {
   "cell_type": "markdown",
   "metadata": {},
   "source": [
    "Aqui, testamos o modelo treinado na base de teste."
   ]
  },
  {
   "cell_type": "code",
   "execution_count": 18,
   "metadata": {},
   "outputs": [],
   "source": [
    "preds = predict(nlp.tokenizer, trained_nlp, test_data['tweet'])"
   ]
  },
  {
   "cell_type": "code",
   "execution_count": 19,
   "metadata": {},
   "outputs": [],
   "source": [
    "predictions = []\n",
    "for pred in preds:\n",
    "    predictions.append(1 if pred.cats['1'] >= pred.cats['-1'] else -1)"
   ]
  },
  {
   "cell_type": "code",
   "execution_count": 20,
   "metadata": {},
   "outputs": [
    {
     "name": "stdout",
     "output_type": "stream",
     "text": [
      "              precision    recall  f1-score   support\n",
      "\n",
      "          -1       0.82      0.89      0.85       264\n",
      "           1       0.95      0.92      0.93       617\n",
      "\n",
      "    accuracy                           0.91       881\n",
      "   macro avg       0.88      0.90      0.89       881\n",
      "weighted avg       0.91      0.91      0.91       881\n",
      "\n"
     ]
    }
   ],
   "source": [
    "print(classification_report(test_data['sentiment'], predictions))"
   ]
  },
  {
   "cell_type": "code",
   "execution_count": 37,
   "metadata": {},
   "outputs": [],
   "source": [
    "teste_resultados_df = pd.DataFrame({'tweet': test_data['tweet'], 'prediction': predictions, 'sentiment': test_data['sentiment']})"
   ]
  },
  {
   "cell_type": "markdown",
   "metadata": {},
   "source": [
    "Exemplos:"
   ]
  },
  {
   "cell_type": "code",
   "execution_count": 56,
   "metadata": {},
   "outputs": [
    {
     "data": {
      "text/html": [
       "<div>\n",
       "<style scoped>\n",
       "    .dataframe tbody tr th:only-of-type {\n",
       "        vertical-align: middle;\n",
       "    }\n",
       "\n",
       "    .dataframe tbody tr th {\n",
       "        vertical-align: top;\n",
       "    }\n",
       "\n",
       "    .dataframe thead th {\n",
       "        text-align: right;\n",
       "    }\n",
       "</style>\n",
       "<table border=\"1\" class=\"dataframe\">\n",
       "  <thead>\n",
       "    <tr style=\"text-align: right;\">\n",
       "      <th></th>\n",
       "      <th>tweet</th>\n",
       "      <th>prediction</th>\n",
       "      <th>sentiment</th>\n",
       "    </tr>\n",
       "  </thead>\n",
       "  <tbody>\n",
       "    <tr>\n",
       "      <th>274</th>\n",
       "      <td>Olá pessoal, esse ano não está muito fácil, qu...</td>\n",
       "      <td>-1</td>\n",
       "      <td>-1</td>\n",
       "    </tr>\n",
       "    <tr>\n",
       "      <th>3431</th>\n",
       "      <td>Jesus = amor #jesus #catolicos #iglesia #enamo...</td>\n",
       "      <td>1</td>\n",
       "      <td>1</td>\n",
       "    </tr>\n",
       "    <tr>\n",
       "      <th>4021</th>\n",
       "      <td>Revendo o episódio final da quinta temporada d...</td>\n",
       "      <td>1</td>\n",
       "      <td>-1</td>\n",
       "    </tr>\n",
       "    <tr>\n",
       "      <th>1027</th>\n",
       "      <td>7.1 Primaveras🎈🎆 Agradeço a Deus por tudo e te...</td>\n",
       "      <td>1</td>\n",
       "      <td>1</td>\n",
       "    </tr>\n",
       "    <tr>\n",
       "      <th>1589</th>\n",
       "      <td>Você não precisa desistir, só precisa descansa...</td>\n",
       "      <td>1</td>\n",
       "      <td>1</td>\n",
       "    </tr>\n",
       "    <tr>\n",
       "      <th>...</th>\n",
       "      <td>...</td>\n",
       "      <td>...</td>\n",
       "      <td>...</td>\n",
       "    </tr>\n",
       "    <tr>\n",
       "      <th>1032</th>\n",
       "      <td>7.1 Primaveras🎈🎆 Agradeço a Deus por tudo e te...</td>\n",
       "      <td>1</td>\n",
       "      <td>1</td>\n",
       "    </tr>\n",
       "    <tr>\n",
       "      <th>3281</th>\n",
       "      <td>💗🙏🏽Que o amor e a união se renove em todos nós...</td>\n",
       "      <td>1</td>\n",
       "      <td>1</td>\n",
       "    </tr>\n",
       "    <tr>\n",
       "      <th>527</th>\n",
       "      <td>Eu vendo que já se passou horas desde o nudes ...</td>\n",
       "      <td>-1</td>\n",
       "      <td>-1</td>\n",
       "    </tr>\n",
       "    <tr>\n",
       "      <th>1200</th>\n",
       "      <td>#SputnikVGarantizaVida sábado</td>\n",
       "      <td>1</td>\n",
       "      <td>1</td>\n",
       "    </tr>\n",
       "    <tr>\n",
       "      <th>122</th>\n",
       "      <td>OOC. meu cabelo é bem cacheadinho ##</td>\n",
       "      <td>1</td>\n",
       "      <td>-1</td>\n",
       "    </tr>\n",
       "  </tbody>\n",
       "</table>\n",
       "<p>881 rows × 3 columns</p>\n",
       "</div>"
      ],
      "text/plain": [
       "                                                  tweet  prediction  sentiment\n",
       "274   Olá pessoal, esse ano não está muito fácil, qu...          -1         -1\n",
       "3431  Jesus = amor #jesus #catolicos #iglesia #enamo...           1          1\n",
       "4021  Revendo o episódio final da quinta temporada d...           1         -1\n",
       "1027  7.1 Primaveras🎈🎆 Agradeço a Deus por tudo e te...           1          1\n",
       "1589  Você não precisa desistir, só precisa descansa...           1          1\n",
       "...                                                 ...         ...        ...\n",
       "1032  7.1 Primaveras🎈🎆 Agradeço a Deus por tudo e te...           1          1\n",
       "3281  💗🙏🏽Que o amor e a união se renove em todos nós...           1          1\n",
       "527   Eu vendo que já se passou horas desde o nudes ...          -1         -1\n",
       "1200                      #SputnikVGarantizaVida sábado           1          1\n",
       "122                OOC. meu cabelo é bem cacheadinho ##           1         -1\n",
       "\n",
       "[881 rows x 3 columns]"
      ]
     },
     "execution_count": 56,
     "metadata": {},
     "output_type": "execute_result"
    }
   ],
   "source": [
    "teste_resultados_df"
   ]
  },
  {
   "cell_type": "code",
   "execution_count": 39,
   "metadata": {},
   "outputs": [
    {
     "data": {
      "text/plain": [
       "array(['Olá pessoal, esse ano não está muito fácil, quem está falando nesse vídeo é o meu marido. Espero que você vejam. Obrigado pela compreensão. #ImpeachmentDeBolsonaroUrgente #obrigadopauloguedes #Deusacimadetudo #bbb21 #JulietteFreire #aceitodoaçoes',\n",
       "       -1, -1], dtype=object)"
      ]
     },
     "execution_count": 39,
     "metadata": {},
     "output_type": "execute_result"
    }
   ],
   "source": [
    "teste_resultados_df.loc[274].values"
   ]
  },
  {
   "cell_type": "code",
   "execution_count": 40,
   "metadata": {},
   "outputs": [
    {
     "data": {
      "text/plain": [
       "array(['Jesus = amor #jesus #catolicos #iglesia #enamorado', 1, 1],\n",
       "      dtype=object)"
      ]
     },
     "execution_count": 40,
     "metadata": {},
     "output_type": "execute_result"
    }
   ],
   "source": [
    "teste_resultados_df.loc[3431].values"
   ]
  },
  {
   "cell_type": "code",
   "execution_count": 55,
   "metadata": {},
   "outputs": [
    {
     "data": {
      "text/plain": [
       "array(['Revendo o episódio final da quinta temporada de Game of Thrones enquanto espero o #BBB2021 começar. E fica a questão: onde vocês erraram ? Era tão bom! Da sexta temporada em diante ficou tudo cagado. #ranço #GoT #GameOfThrones',\n",
       "       1, -1], dtype=object)"
      ]
     },
     "execution_count": 55,
     "metadata": {},
     "output_type": "execute_result"
    }
   ],
   "source": [
    "teste_resultados_df.loc[4021].values"
   ]
  },
  {
   "cell_type": "code",
   "execution_count": 42,
   "metadata": {},
   "outputs": [
    {
     "data": {
      "text/plain": [
       "array(['7.1 Primaveras🎈🎆 Agradeço a Deus por tudo e ter sempre os puros ao meu lado. Obg meu Deus por me permitir viver mais um ano de vida! 🎊💃🏽\\U0001f973🎉🕺. . . . . . . . . #meus71anos #71primaveras #gratidão #aniversario',\n",
       "       1, 1], dtype=object)"
      ]
     },
     "execution_count": 42,
     "metadata": {},
     "output_type": "execute_result"
    }
   ],
   "source": [
    "teste_resultados_df.loc[1027].values"
   ]
  }
 ],
 "metadata": {
  "kernelspec": {
   "display_name": "Python 3",
   "language": "python",
   "name": "python3"
  },
  "language_info": {
   "codemirror_mode": {
    "name": "ipython",
    "version": 3
   },
   "file_extension": ".py",
   "mimetype": "text/x-python",
   "name": "python",
   "nbconvert_exporter": "python",
   "pygments_lexer": "ipython3",
   "version": "3.6.5"
  }
 },
 "nbformat": 4,
 "nbformat_minor": 2
}
